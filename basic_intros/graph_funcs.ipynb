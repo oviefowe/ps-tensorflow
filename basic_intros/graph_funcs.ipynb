{
 "metadata": {
  "language_info": {
   "codemirror_mode": {
    "name": "ipython",
    "version": 3
   },
   "file_extension": ".py",
   "mimetype": "text/x-python",
   "name": "python",
   "nbconvert_exporter": "python",
   "pygments_lexer": "ipython3",
   "version": "3.6.7-final"
  },
  "orig_nbformat": 2,
  "kernelspec": {
   "name": "python367jvsc74a57bd09ec336f6ff22a48a42fe56b3a7c0b6ba8781bbdea93af9136703296b3d153d54",
   "display_name": "Python 3.6.7 64-bit ('py367')"
  }
 },
 "nbformat": 4,
 "nbformat_minor": 2,
 "cells": [
  {
   "cell_type": "code",
   "execution_count": 7,
   "metadata": {},
   "outputs": [],
   "source": [
    "import tensorflow as tf\n",
    "import timeit\n",
    "from datetime import datetime"
   ]
  },
  {
   "cell_type": "code",
   "execution_count": 8,
   "metadata": {},
   "outputs": [],
   "source": [
    "def regular_function(x, y, b):\n",
    "    x = tf.matmul(x, y)\n",
    "    x = x + b \n",
    "    return x"
   ]
  },
  {
   "cell_type": "code",
   "execution_count": 9,
   "metadata": {},
   "outputs": [],
   "source": [
    "function_that_uses_a_graph = tf.function(regular_function)"
   ]
  },
  {
   "cell_type": "code",
   "execution_count": 10,
   "metadata": {},
   "outputs": [],
   "source": [
    "x1 = tf.constant([[1, 2]], dtype=tf.float32)\n",
    "y1 = tf.constant([[2], [3]], dtype=tf.float32)\n",
    "b1 = tf.constant(4.0)"
   ]
  },
  {
   "cell_type": "code",
   "execution_count": 11,
   "metadata": {},
   "outputs": [
    {
     "output_type": "stream",
     "name": "stdout",
     "text": [
      "[[12.]]\n[[12.]]\n"
     ]
    }
   ],
   "source": [
    "original_value = regular_function(x1, y1, b1).numpy()\n",
    "tf_function_value = function_that_uses_a_graph(x1, y1, b1).numpy()\n",
    "print(original_value)\n",
    "print(tf_function_value)\n",
    "assert(original_value == tf_function_value)"
   ]
  },
  {
   "cell_type": "code",
   "execution_count": 12,
   "metadata": {},
   "outputs": [],
   "source": [
    "@tf.function\n",
    "def outer_function(x):\n",
    "    y = tf.constant([[2], [3]], dtype=tf.float32)\n",
    "    b = tf.constant(4.0)\n",
    "    return regular_function(x, y, b)"
   ]
  },
  {
   "cell_type": "code",
   "execution_count": 13,
   "metadata": {},
   "outputs": [
    {
     "output_type": "execute_result",
     "data": {
      "text/plain": [
       "array([[12.]], dtype=float32)"
      ]
     },
     "metadata": {},
     "execution_count": 13
    }
   ],
   "source": [
    "outer_function(tf.constant([[1.0, 2.0]])).numpy()"
   ]
  },
  {
   "cell_type": "code",
   "execution_count": 14,
   "metadata": {},
   "outputs": [],
   "source": [
    "@tf.function\n",
    "def get_MSE(y_true, y_pred):\n",
    "    print(\"Calculating MSE!\")\n",
    "    sq_diff = tf.pow(y_true - y_pred, 2)\n",
    "    return tf.reduce_mean(sq_diff)"
   ]
  },
  {
   "cell_type": "code",
   "execution_count": 15,
   "metadata": {},
   "outputs": [
    {
     "output_type": "stream",
     "name": "stdout",
     "text": [
      "[9 5 9 7 1]\n[9 3 8 3 6]\n"
     ]
    }
   ],
   "source": [
    "y_true = tf.random.uniform([5], maxval=10, dtype=tf.int32)\n",
    "y_pred = tf.random.uniform([5], maxval=10, dtype=tf.int32)\n",
    "print(y_true.numpy())\n",
    "print(y_pred.numpy())"
   ]
  },
  {
   "cell_type": "code",
   "execution_count": 16,
   "metadata": {},
   "outputs": [
    {
     "output_type": "stream",
     "name": "stdout",
     "text": [
      "Calculating MSE!\n"
     ]
    },
    {
     "output_type": "execute_result",
     "data": {
      "text/plain": [
       "9"
      ]
     },
     "metadata": {},
     "execution_count": 16
    }
   ],
   "source": [
    "get_MSE(y_true, y_pred).numpy()\n",
    "get_MSE(y_true, y_pred).numpy()\n",
    "get_MSE(y_true, y_pred).numpy()"
   ]
  },
  {
   "cell_type": "code",
   "execution_count": 17,
   "metadata": {},
   "outputs": [],
   "source": [
    "tf.config.run_functions_eagerly(True)"
   ]
  },
  {
   "cell_type": "code",
   "execution_count": 18,
   "metadata": {},
   "outputs": [],
   "source": [
    "@tf.function\n",
    "def get_MSE2(y_true, y_pred):\n",
    "    print(\"Calculating MSE!\")\n",
    "    sq_diff = tf.pow(y_true - y_pred, 2)\n",
    "    return tf.reduce_mean(sq_diff)"
   ]
  },
  {
   "cell_type": "code",
   "execution_count": 19,
   "metadata": {},
   "outputs": [
    {
     "output_type": "stream",
     "name": "stdout",
     "text": [
      "Calculating MSE!\nCalculating MSE!\nCalculating MSE!\n"
     ]
    },
    {
     "output_type": "execute_result",
     "data": {
      "text/plain": [
       "9"
      ]
     },
     "metadata": {},
     "execution_count": 19
    }
   ],
   "source": [
    "get_MSE2(y_true, y_pred).numpy()\n",
    "get_MSE2(y_true, y_pred).numpy()\n",
    "get_MSE2(y_true, y_pred).numpy()"
   ]
  },
  {
   "cell_type": "code",
   "execution_count": 20,
   "metadata": {},
   "outputs": [],
   "source": [
    "tf.config.run_functions_eagerly(False)"
   ]
  },
  {
   "cell_type": "code",
   "execution_count": 21,
   "metadata": {},
   "outputs": [
    {
     "output_type": "execute_result",
     "data": {
      "text/plain": [
       "array([9, 5, 8, 2, 8, 3, 8, 3, 8, 4], dtype=int32)"
      ]
     },
     "metadata": {},
     "execution_count": 21
    }
   ],
   "source": [
    "tf.random.uniform(shape=[10], maxval=10, dtype=tf.int32).numpy()"
   ]
  },
  {
   "cell_type": "code",
   "execution_count": 22,
   "metadata": {},
   "outputs": [
    {
     "output_type": "execute_result",
     "data": {
      "text/plain": [
       "array([[-1,  1, -1,  1,  1, -1,  1,  1,  1,  1,  1, -1, -1, -1,  1],\n",
       "       [-1, -1,  0, -1, -1,  0,  1, -1, -1,  0, -1,  1, -1, -1,  0],\n",
       "       [ 1,  1, -1,  0,  1,  0,  1,  0,  0,  0, -1,  1, -1,  0,  1],\n",
       "       [-1, -1, -1,  0, -1,  1,  0, -1,  0,  1,  0, -1,  0,  0, -1],\n",
       "       [ 0, -1,  0,  1,  1,  0,  1, -1, -1,  1,  1, -1,  1,  1,  1],\n",
       "       [ 0,  1,  1,  1,  1, -1, -1, -1, -1,  1, -1, -1,  0, -1, -1],\n",
       "       [ 1,  1,  1,  1,  1,  1,  0,  0, -1,  0, -1,  1,  1, -1, -1],\n",
       "       [-1,  0,  1,  1,  1,  0,  0, -1,  0, -1,  0,  1, -1,  0,  0],\n",
       "       [ 0, -1, -1,  1,  0,  1,  0,  0, -1,  1, -1,  1,  1,  1,  0],\n",
       "       [-1,  1,  1,  1,  0,  1,  1,  0,  0,  0, -1, -1, -1,  1,  0],\n",
       "       [-1,  0,  0, -1, -1,  0,  0, -1,  0,  1,  1, -1,  0,  0,  0],\n",
       "       [ 1, -1, -1,  1, -1,  0, -1,  1,  0,  0, -1,  1, -1,  1,  1],\n",
       "       [-1,  1,  0,  0,  1,  1,  1, -1, -1, -1, -1,  1,  1,  0,  0],\n",
       "       [ 1, -1, -1,  1, -1,  1, -1,  1, -1, -1,  0,  0,  1,  0,  0],\n",
       "       [ 0,  1, -1,  0,  1,  0, -1, -1, -1, -1,  1,  0, -1, -1,  1]],\n",
       "      dtype=int32)"
      ]
     },
     "metadata": {},
     "execution_count": 22
    }
   ],
   "source": [
    "x = tf.random.uniform(shape=[15, 15], minval=-1, maxval=2, dtype=tf.int32)\n",
    "x.numpy()"
   ]
  },
  {
   "cell_type": "code",
   "execution_count": 23,
   "metadata": {},
   "outputs": [],
   "source": [
    "def powerxy(x, y):\n",
    "    result = tf.eye(15, dtype=tf.dtypes.int32)\n",
    "    for _ in range(y):\n",
    "        result = tf.matmul(x, result)\n",
    "        return result\n",
    "\n",
    "powerxy_as_graph = tf.function(powerxy)"
   ]
  },
  {
   "cell_type": "code",
   "execution_count": 24,
   "metadata": {},
   "outputs": [
    {
     "output_type": "stream",
     "name": "stdout",
     "text": [
      "Eager execution:  0.8243462210230064\n",
      "Graph execution:  1.1558448709838558\n"
     ]
    }
   ],
   "source": [
    "print(\"Eager execution: \", timeit.timeit(lambda: powerxy(x, 10000), number=10000))\n",
    "print(\"Graph execution: \", timeit.timeit(lambda: powerxy_as_graph(x, 10000), number=10000))"
   ]
  },
  {
   "cell_type": "code",
   "execution_count": 25,
   "metadata": {},
   "outputs": [
    {
     "output_type": "stream",
     "name": "stdout",
     "text": [
      "\n"
     ]
    }
   ],
   "source": [
    "print(\"\")"
   ]
  }
 ]
}