{
 "metadata": {
  "language_info": {
   "codemirror_mode": {
    "name": "ipython",
    "version": 3
   },
   "file_extension": ".py",
   "mimetype": "text/x-python",
   "name": "python",
   "nbconvert_exporter": "python",
   "pygments_lexer": "ipython3",
   "version": "3.6.7-final"
  },
  "orig_nbformat": 2,
  "kernelspec": {
   "name": "python367jvsc74a57bd09ec336f6ff22a48a42fe56b3a7c0b6ba8781bbdea93af9136703296b3d153d54",
   "display_name": "Python 3.6.7 64-bit ('py367')"
  }
 },
 "nbformat": 4,
 "nbformat_minor": 2,
 "cells": [
  {
   "cell_type": "code",
   "execution_count": 57,
   "metadata": {},
   "outputs": [
    {
     "output_type": "stream",
     "name": "stdout",
     "text": [
      "The tensorboard extension is already loaded. To reload it, use:\n  %reload_ext tensorboard\n"
     ]
    }
   ],
   "source": [
    "import tensorflow as tf\n",
    "from datetime import datetime\n",
    "\n",
    "%load_ext tensorboard"
   ]
  },
  {
   "cell_type": "code",
   "execution_count": 58,
   "metadata": {},
   "outputs": [],
   "source": [
    "class SimpleModule(tf.Module):\n",
    "\n",
    "    def __init__(self, name=None):\n",
    "        super().__init__(name=name)\n",
    "        self.a_variable = tf.Variable(5, dtype=tf.dtypes.float32, name='train_me')\n",
    "        self.non_trainable_variable = tf.Variable(5, trainable=False, dtype=tf.dtypes.float32, name='do_not_train_me')\n",
    "\n",
    "    def __call__(self, x):\n",
    "        return self.a_variable * x + self.non_trainable_variable"
   ]
  },
  {
   "cell_type": "code",
   "execution_count": 59,
   "metadata": {},
   "outputs": [
    {
     "output_type": "execute_result",
     "data": {
      "text/plain": [
       "30.0"
      ]
     },
     "metadata": {},
     "execution_count": 59
    }
   ],
   "source": [
    "simple_module = SimpleModule(name='Simple')\n",
    "simple_module(tf.constant(5.0)).numpy()"
   ]
  },
  {
   "cell_type": "code",
   "execution_count": 60,
   "metadata": {},
   "outputs": [
    {
     "output_type": "stream",
     "name": "stdout",
     "text": [
      "Trainable variables: (<tf.Variable 'train_me:0' shape=() dtype=float32, numpy=5.0>,)\nAll variables: (<tf.Variable 'train_me:0' shape=() dtype=float32, numpy=5.0>, <tf.Variable 'do_not_train_me:0' shape=() dtype=float32, numpy=5.0>)\n"
     ]
    }
   ],
   "source": [
    "print(\"Trainable variables:\", simple_module.trainable_variables)\n",
    "print(\"All variables:\", simple_module.variables)"
   ]
  },
  {
   "cell_type": "code",
   "execution_count": 61,
   "metadata": {},
   "outputs": [],
   "source": [
    "class Dense(tf.Module):\n",
    "\n",
    "    def __init__(self, in_features, out_features, name=None):\n",
    "        super().__init__(name=name)\n",
    "        self.w = tf.Variable(\n",
    "            tf.random.normal([in_features, out_features], name='w')\n",
    "        )\n",
    "        self.b = tf.Variable(tf.ones([out_features]), name='b')\n",
    "\n",
    "    def __call__(self, x):\n",
    "        y = tf.matmul(x, self.w) + self.b\n",
    "        return tf.nn.relu(y)"
   ]
  },
  {
   "cell_type": "code",
   "execution_count": 62,
   "metadata": {},
   "outputs": [],
   "source": [
    "class SequentialModule(tf.Module):\n",
    "\n",
    "    def __init__(self, name=None):\n",
    "        super().__init__(name=name)\n",
    "        self.dense1 = Dense(in_features=3, out_features=3)\n",
    "        self.dense2 = Dense(in_features=3, out_features=2)\n",
    "\n",
    "    def __call__(self, x):\n",
    "        x = self.dense1(x)\n",
    "        return self.dense2(x)"
   ]
  },
  {
   "cell_type": "code",
   "execution_count": 63,
   "metadata": {},
   "outputs": [
    {
     "output_type": "execute_result",
     "data": {
      "text/plain": [
       "array([[7.5454993, 0.       ]], dtype=float32)"
      ]
     },
     "metadata": {},
     "execution_count": 63
    }
   ],
   "source": [
    "mymodel = SequentialModule(name='mymodel')\n",
    "mymodel([[1.0, 2.0, 3.0]]).numpy()"
   ]
  },
  {
   "cell_type": "code",
   "execution_count": 64,
   "metadata": {},
   "outputs": [
    {
     "output_type": "stream",
     "name": "stdout",
     "text": [
      "(<__main__.Dense object at 0x14913cbe0>, <__main__.Dense object at 0x149140f28>)\n\n<tf.Variable 'b:0' shape=(3,) dtype=float32, numpy=array([1., 1., 1.], dtype=float32)>\n<tf.Variable 'Variable:0' shape=(3, 3) dtype=float32, numpy=\narray([[-1.0082649 , -0.30613193, -0.07526284],\n       [ 0.2806238 ,  0.23274003,  0.26898396],\n       [ 3.1036172 ,  0.06940007, -0.5029811 ]], dtype=float32)>\n<tf.Variable 'b:0' shape=(2,) dtype=float32, numpy=array([1., 1.], dtype=float32)>\n<tf.Variable 'Variable:0' shape=(3, 2) dtype=float32, numpy=\narray([[ 0.7739295 , -1.4055985 ],\n       [-0.7958861 ,  0.75101995],\n       [-0.9784334 , -0.9110446 ]], dtype=float32)>\n"
     ]
    }
   ],
   "source": [
    "print(mymodel.submodules)\n",
    "print()\n",
    "for vrs in mymodel.variables:\n",
    "    print(vrs)"
   ]
  },
  {
   "cell_type": "code",
   "execution_count": 65,
   "metadata": {},
   "outputs": [],
   "source": [
    "class FlexibleDense(tf.Module):\n",
    "\n",
    "    def __init__(self, out_features, name=None):\n",
    "        super().__init__(name=name)\n",
    "        self.is_built = False\n",
    "        self.out_features = out_features\n",
    "\n",
    "    def __call__(self, x):\n",
    "        if not self.is_built:\n",
    "            self.in_features = x.shape[-1]\n",
    "            self.w = tf.Variable(\n",
    "                tf.random.normal([self.in_features, self.out_features]), \n",
    "                name='w'\n",
    "            )\n",
    "            self.b = tf.Variable(tf.ones([self.out_features]), name='b')\n",
    "            self.is_built = True\n",
    "\n",
    "        y = tf.matmul(x, self.w) + self.b\n",
    "        return tf.nn.relu(y)\n",
    "\n"
   ]
  },
  {
   "cell_type": "code",
   "execution_count": 66,
   "metadata": {},
   "outputs": [],
   "source": [
    "class MySequentialModule(tf.Module):\n",
    "\n",
    "    def __init__(self, name=None):\n",
    "        super().__init__(name=name)\n",
    "        self.dense1 = FlexibleDense(out_features=3, name='dense1')\n",
    "        self.dense2 = FlexibleDense(out_features=2, name='dense2')\n",
    "\n",
    "    def __call__(self, x):\n",
    "        x = self.dense1(x)\n",
    "        return self.dense2(x)\n"
   ]
  },
  {
   "cell_type": "code",
   "execution_count": 68,
   "metadata": {},
   "outputs": [
    {
     "output_type": "stream",
     "name": "stdout",
     "text": [
      "[[6.908826  1.8998265]]\n"
     ]
    }
   ],
   "source": [
    "mymodel2 = MySequentialModule(name='mymodel2')\n",
    "print(mymodel2(tf.constant([[1.0, 2.0, 3.0, 4.0]])).numpy())"
   ]
  },
  {
   "cell_type": "code",
   "execution_count": null,
   "metadata": {},
   "outputs": [],
   "source": []
  }
 ]
}