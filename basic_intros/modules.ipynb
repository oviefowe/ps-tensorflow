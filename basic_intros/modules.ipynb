{
 "metadata": {
  "language_info": {
   "codemirror_mode": {
    "name": "ipython",
    "version": 3
   },
   "file_extension": ".py",
   "mimetype": "text/x-python",
   "name": "python",
   "nbconvert_exporter": "python",
   "pygments_lexer": "ipython3",
   "version": "3.6.7-final"
  },
  "orig_nbformat": 2,
  "kernelspec": {
   "name": "python367jvsc74a57bd09ec336f6ff22a48a42fe56b3a7c0b6ba8781bbdea93af9136703296b3d153d54",
   "display_name": "Python 3.6.7 64-bit ('py367')"
  }
 },
 "nbformat": 4,
 "nbformat_minor": 2,
 "cells": [
  {
   "cell_type": "code",
   "execution_count": 1,
   "metadata": {},
   "outputs": [],
   "source": [
    "import tensorflow as tf\n",
    "from datetime import datetime\n",
    "\n",
    "%load_ext tensorboard"
   ]
  },
  {
   "cell_type": "code",
   "execution_count": 2,
   "metadata": {},
   "outputs": [],
   "source": [
    "class SimpleModule(tf.Module):\n",
    "\n",
    "    def __init__(self, name=None):\n",
    "        super().__init__(name=name)\n",
    "        self.a_variable = tf.Variable(5, dtype=tf.dtypes.float32, name='train_me')\n",
    "        self.non_trainable_variable = tf.Variable(\n",
    "            5, trainable=False, \n",
    "            dtype=tf.dtypes.float32, \n",
    "            name='do_not_train_me'\n",
    "        )\n",
    "\n",
    "    def __call__(self, x):\n",
    "        return self.a_variable * x + self.non_trainable_variable\n",
    "        "
   ]
  },
  {
   "cell_type": "code",
   "execution_count": 3,
   "metadata": {},
   "outputs": [
    {
     "output_type": "execute_result",
     "data": {
      "text/plain": [
       "30.0"
      ]
     },
     "metadata": {},
     "execution_count": 3
    }
   ],
   "source": [
    "simple_module = SimpleModule(name='Simple')\n",
    "simple_module(tf.constant(5.0)).numpy()"
   ]
  },
  {
   "cell_type": "code",
   "execution_count": 4,
   "metadata": {},
   "outputs": [
    {
     "output_type": "stream",
     "name": "stdout",
     "text": [
      "Trainable variables: (<tf.Variable 'train_me:0' shape=() dtype=float32, numpy=5.0>,)\nAll variables: (<tf.Variable 'train_me:0' shape=() dtype=float32, numpy=5.0>, <tf.Variable 'do_not_train_me:0' shape=() dtype=float32, numpy=5.0>)\n"
     ]
    }
   ],
   "source": [
    "print(\"Trainable variables:\", simple_module.trainable_variables)\n",
    "print(\"All variables:\", simple_module.variables)"
   ]
  },
  {
   "cell_type": "code",
   "execution_count": 5,
   "metadata": {},
   "outputs": [],
   "source": [
    "class Dense(tf.Module):\n",
    "\n",
    "    def __init__(self, in_features, out_features, name=None):\n",
    "        super().__init__(name=name)\n",
    "        self.w = tf.Variable(\n",
    "            tf.random.normal([in_features, out_features], name='w')\n",
    "        )\n",
    "        self.b = tf.Variable(tf.ones([out_features]), name='b')\n",
    "\n",
    "    def __call__(self, x):\n",
    "        y = tf.matmul(x, self.w) + self.b\n",
    "        return tf.nn.relu(y)"
   ]
  },
  {
   "cell_type": "code",
   "execution_count": 6,
   "metadata": {},
   "outputs": [],
   "source": [
    "class SequentialModule(tf.Module):\n",
    "\n",
    "    def __init__(self, name=None):\n",
    "        super().__init__(name=name)\n",
    "        self.dense1 = Dense(in_features=3, out_features=3)\n",
    "        self.dense2 = Dense(in_features=3, out_features=2)\n",
    "\n",
    "    def __call__(self, x):\n",
    "        x = self.dense1(x)\n",
    "        return self.dense2(x)"
   ]
  },
  {
   "cell_type": "code",
   "execution_count": 7,
   "metadata": {},
   "outputs": [
    {
     "output_type": "execute_result",
     "data": {
      "text/plain": [
       "array([[0.       , 3.3653815]], dtype=float32)"
      ]
     },
     "metadata": {},
     "execution_count": 7
    }
   ],
   "source": [
    "mymodel = SequentialModule(name='mymodel')\n",
    "mymodel([[1.0, 2.0, 3.0]]).numpy()"
   ]
  },
  {
   "cell_type": "code",
   "execution_count": 8,
   "metadata": {},
   "outputs": [
    {
     "output_type": "stream",
     "name": "stdout",
     "text": [
      "(<__main__.Dense object at 0x14e4eff60>, <__main__.Dense object at 0x14e4efb38>)\n\n<tf.Variable 'b:0' shape=(3,) dtype=float32, numpy=array([1., 1., 1.], dtype=float32)>\n<tf.Variable 'Variable:0' shape=(3, 3) dtype=float32, numpy=\narray([[ 0.33689612, -0.7213998 , -0.69536483],\n       [ 0.4329436 , -1.0470401 ,  0.33147052],\n       [ 0.0113384 , -0.20763868,  0.21036239]], dtype=float32)>\n<tf.Variable 'b:0' shape=(2,) dtype=float32, numpy=array([1., 1.], dtype=float32)>\n<tf.Variable 'Variable:0' shape=(3, 2) dtype=float32, numpy=\narray([[-1.3474002 ,  0.32018778],\n       [ 1.6944605 , -0.09411707],\n       [ 0.13095284,  1.031603  ]], dtype=float32)>\n"
     ]
    }
   ],
   "source": [
    "print(mymodel.submodules)\n",
    "print()\n",
    "for vrs in mymodel.variables:\n",
    "    print(vrs)"
   ]
  },
  {
   "cell_type": "code",
   "execution_count": 9,
   "metadata": {},
   "outputs": [],
   "source": [
    "class FlexibleDense(tf.Module):\n",
    "\n",
    "    def __init__(self, out_features, name=None):\n",
    "        super().__init__(name=name)\n",
    "        self.is_built = False\n",
    "        self.out_features = out_features\n",
    "\n",
    "    def __call__(self, x):\n",
    "        if not self.is_built:\n",
    "            self.in_features = x.shape[-1]\n",
    "            self.w = tf.Variable(\n",
    "                tf.random.normal([self.in_features, self.out_features]), \n",
    "                name='w'\n",
    "            )\n",
    "            self.b = tf.Variable(tf.ones([self.out_features]), name='b')\n",
    "            self.is_built = True\n",
    "\n",
    "        y = tf.matmul(x, self.w) + self.b\n",
    "        return tf.nn.relu(y)\n",
    "\n"
   ]
  },
  {
   "cell_type": "code",
   "execution_count": 10,
   "metadata": {},
   "outputs": [],
   "source": [
    "class MySequentialModule(tf.Module):\n",
    "\n",
    "    def __init__(self, name=None):\n",
    "        super().__init__(name=name)\n",
    "        self.dense1 = FlexibleDense(out_features=3, name='dense1')\n",
    "        self.dense2 = FlexibleDense(out_features=2, name='dense2')\n",
    "\n",
    "    def __call__(self, x):\n",
    "        x = self.dense1(x)\n",
    "        return self.dense2(x)\n"
   ]
  },
  {
   "cell_type": "code",
   "execution_count": 11,
   "metadata": {},
   "outputs": [
    {
     "output_type": "stream",
     "name": "stdout",
     "text": [
      "[[1.411684 2.481882]]\n"
     ]
    }
   ],
   "source": [
    "mymodel2 = MySequentialModule(name='mymodel2')\n",
    "print(mymodel2(tf.constant([[1.0, 2.0, 3.0, 4.0]])).numpy())"
   ]
  },
  {
   "cell_type": "code",
   "execution_count": 12,
   "metadata": {},
   "outputs": [
    {
     "output_type": "execute_result",
     "data": {
      "text/plain": [
       "'my_checkpoint'"
      ]
     },
     "metadata": {},
     "execution_count": 12
    }
   ],
   "source": [
    "chkp_path = 'my_checkpoint'\n",
    "checkpoint = tf.train.Checkpoint(model=mymodel2)\n",
    "checkpoint.write(chkp_path)"
   ]
  },
  {
   "cell_type": "code",
   "execution_count": 13,
   "metadata": {},
   "outputs": [
    {
     "output_type": "execute_result",
     "data": {
      "text/plain": [
       "[('_CHECKPOINTABLE_OBJECT_GRAPH', []),\n",
       " ('model/dense1/b/.ATTRIBUTES/VARIABLE_VALUE', [3]),\n",
       " ('model/dense1/w/.ATTRIBUTES/VARIABLE_VALUE', [4, 3]),\n",
       " ('model/dense2/b/.ATTRIBUTES/VARIABLE_VALUE', [2]),\n",
       " ('model/dense2/w/.ATTRIBUTES/VARIABLE_VALUE', [3, 2])]"
      ]
     },
     "metadata": {},
     "execution_count": 13
    }
   ],
   "source": [
    "tf.train.list_variables(chkp_path)"
   ]
  },
  {
   "cell_type": "code",
   "execution_count": 14,
   "metadata": {},
   "outputs": [
    {
     "output_type": "execute_result",
     "data": {
      "text/plain": [
       "<tensorflow.python.training.tracking.util.CheckpointLoadStatus at 0x14e557208>"
      ]
     },
     "metadata": {},
     "execution_count": 14
    }
   ],
   "source": [
    "mymodel3 = MySequentialModule(name='mymodel3')\n",
    "new_checkpoint = tf.train.Checkpoint(model=mymodel3)\n",
    "new_checkpoint.restore(chkp_path)\n"
   ]
  },
  {
   "cell_type": "code",
   "execution_count": 15,
   "metadata": {},
   "outputs": [
    {
     "output_type": "stream",
     "name": "stdout",
     "text": [
      "[[1.411684 2.481882]]\n"
     ]
    }
   ],
   "source": [
    "print(mymodel3(tf.constant([[1.0, 2.0, 3.0, 4.0]])).numpy())"
   ]
  },
  {
   "cell_type": "code",
   "execution_count": 16,
   "metadata": {},
   "outputs": [],
   "source": [
    "class MySequentialModule_Graph(tf.Module):\n",
    "\n",
    "    def __init__(self, name=None):\n",
    "        super().__init__(name=name)\n",
    "        self.dense1 = FlexibleDense(out_features=3, name='dense1')\n",
    "        self.dense2 = FlexibleDense(out_features=2, name='dense2')\n",
    "\n",
    "    @tf.function\n",
    "    def __call__(self, x):\n",
    "        x = self.dense1(x)\n",
    "        return self.dense2(x)\n",
    "        "
   ]
  },
  {
   "cell_type": "code",
   "execution_count": 17,
   "metadata": {},
   "outputs": [],
   "source": [
    "mymodel4 = MySequentialModule_Graph(name='mymodel4')"
   ]
  },
  {
   "cell_type": "code",
   "execution_count": 18,
   "metadata": {},
   "outputs": [
    {
     "output_type": "stream",
     "name": "stdout",
     "text": [
      "[[ 0.      25.40216]]\n"
     ]
    }
   ],
   "source": [
    "print(mymodel4(tf.constant([[1.0, 2.0, 3.0, 4.0]])).numpy())"
   ]
  },
  {
   "cell_type": "code",
   "execution_count": 19,
   "metadata": {},
   "outputs": [],
   "source": [
    "stamp = datetime.now().strftime('%Y%m%d-%H%M%S')\n",
    "logdir = './logs/func/%s' % stamp\n",
    "writer = tf.summary.create_file_writer(logdir)"
   ]
  },
  {
   "cell_type": "code",
   "execution_count": 20,
   "metadata": {},
   "outputs": [],
   "source": [
    "mymodel5 = MySequentialModule_Graph(name='mymodel5')"
   ]
  },
  {
   "cell_type": "code",
   "execution_count": 21,
   "metadata": {},
   "outputs": [],
   "source": [
    "tf.summary.trace_on(graph=True)\n",
    "tf.profiler.experimental.start(logdir)"
   ]
  },
  {
   "cell_type": "code",
   "execution_count": 22,
   "metadata": {},
   "outputs": [
    {
     "output_type": "stream",
     "name": "stdout",
     "text": [
      "[[0.        4.0053625]]\nWARNING:tensorflow:From /Users/y837577/.pyenv/versions/py367/lib/python3.6/site-packages/tensorflow/python/ops/summary_ops_v2.py:1277: stop (from tensorflow.python.eager.profiler) is deprecated and will be removed after 2020-07-01.\nInstructions for updating:\nuse `tf.profiler.experimental.stop` instead.\n"
     ]
    }
   ],
   "source": [
    "z = print(mymodel5(tf.constant([[2.0, 2.0, 2.0]])).numpy())\n",
    "with writer.as_default():\n",
    "    tf.summary.trace_export(\n",
    "        name='my_func_trace',\n",
    "        step=0,\n",
    "        profiler_outdir=logdir)"
   ]
  },
  {
   "cell_type": "code",
   "execution_count": 23,
   "metadata": {},
   "outputs": [],
   "source": [
    "#%tensorboard --logdir logs/func; #http://localhost:6006"
   ]
  },
  {
   "cell_type": "code",
   "execution_count": 24,
   "metadata": {},
   "outputs": [
    {
     "output_type": "stream",
     "name": "stdout",
     "text": [
      "INFO:tensorflow:Assets written to: mymodel5_saved/assets\n"
     ]
    }
   ],
   "source": [
    "tf.saved_model.save(mymodel5, \"mymodel5_saved\")"
   ]
  },
  {
   "cell_type": "code",
   "execution_count": 25,
   "metadata": {},
   "outputs": [
    {
     "output_type": "stream",
     "name": "stdout",
     "text": [
      "total 24\ndrwxr-xr-x  2 y837577  staff     64 Apr 11 14:07 \u001b[1m\u001b[36massets\u001b[m\u001b[m\n-rw-r--r--  1 y837577  staff  10620 Apr 11 18:54 saved_model.pb\ndrwxr-xr-x  4 y837577  staff    128 Apr 11 18:54 \u001b[1m\u001b[36mvariables\u001b[m\u001b[m\n"
     ]
    }
   ],
   "source": [
    "!ls -l mymodel5_saved/"
   ]
  },
  {
   "cell_type": "code",
   "execution_count": 26,
   "metadata": {},
   "outputs": [
    {
     "output_type": "stream",
     "name": "stdout",
     "text": [
      "total 16\n-rw-r--r--  1 y837577  staff  402 Apr 11 18:54 variables.data-00000-of-00001\n-rw-r--r--  1 y837577  staff  355 Apr 11 18:54 variables.index\n"
     ]
    }
   ],
   "source": [
    "!ls -l mymodel5_saved/variables"
   ]
  },
  {
   "cell_type": "code",
   "execution_count": 27,
   "metadata": {},
   "outputs": [],
   "source": [
    "class FlexibleDenseKeras(tf.keras.layers.Layer):\n",
    "\n",
    "    def __init__(self, out_features, **kwargs):\n",
    "        super().__init__(**kwargs)\n",
    "        self.out_features = out_features\n",
    "\n",
    "    def build(self, input_shape):\n",
    "        self.w = tf.Variable(\n",
    "            tf.random.normal([input_shape[-1], self.out_features]),\n",
    "            name='w'\n",
    "        )\n",
    "        self.b = tf.Variable(tf.zeros([self.out_features]), name='b')\n",
    "\n",
    "    def call(self, inputs):\n",
    "        return tf.matmul(inputs, self.w) + self.b\n",
    "        "
   ]
  },
  {
   "cell_type": "code",
   "execution_count": 28,
   "metadata": {},
   "outputs": [],
   "source": [
    "mymodel6 = FlexibleDenseKeras(out_features=3)"
   ]
  },
  {
   "cell_type": "code",
   "execution_count": 30,
   "metadata": {},
   "outputs": [
    {
     "output_type": "stream",
     "name": "stdout",
     "text": [
      "[[ 9.673981    1.7248194  -2.528175  ]\n [25.119492    0.96183205 -7.2091017 ]]\n"
     ]
    }
   ],
   "source": [
    "print(mymodel6(tf.constant([[1.0, 2.0, 3.0], [4.0, 5.0, 6.0]]).numpy())"
   ]
  },
  {
   "cell_type": "code",
   "execution_count": null,
   "metadata": {},
   "outputs": [],
   "source": []
  }
 ]
}